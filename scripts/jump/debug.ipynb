{
 "cells": [
  {
   "cell_type": "code",
   "execution_count": null,
   "metadata": {},
   "outputs": [
    {
     "name": "stdout",
     "output_type": "stream",
     "text": [
      "Keys in sample: dict_keys(['__key__', '__url__', 'image.npy', '__local_path__'])\n",
      "Type of image data: <class 'bytes'>\n",
      "First few bytes: b'\\x93NUMPY\\x01\\x00v\\x00'\n"
     ]
    },
    {
     "name": "stderr",
     "output_type": "stream",
     "text": [
      "/Users/lapuerta/miniconda3/envs/ldm/lib/python3.12/site-packages/webdataset/compat.py:136: UserWarning: WebDataset(shardshuffle=...) is None; set explicitly to False or a number\n",
      "  warnings.warn(\"WebDataset(shardshuffle=...) is None; set explicitly to False or a number\")\n"
     ]
    }
   ],
   "source": [
    "import tarfile\n",
    "import webdataset as wds\n",
    "\n",
    "# Look at first tar file\n",
    "url = \"../../data/jump_wds/train/shard_00000000.tar\"\n",
    "ds = wds.WebDataset(url)\n",
    "sample = next(iter(ds))\n",
    "print(\"Keys in sample:\", sample.keys())\n",
    "print(\"Type of image data:\", type(sample[\"image.npy\"]))\n",
    "print(\"First few bytes:\", sample[\"image.npy\"][:10])"
   ]
  }
 ],
 "metadata": {
  "kernelspec": {
   "display_name": "ldm",
   "language": "python",
   "name": "python3"
  },
  "language_info": {
   "codemirror_mode": {
    "name": "ipython",
    "version": 3
   },
   "file_extension": ".py",
   "mimetype": "text/x-python",
   "name": "python",
   "nbconvert_exporter": "python",
   "pygments_lexer": "ipython3",
   "version": "3.12.7"
  }
 },
 "nbformat": 4,
 "nbformat_minor": 2
}
